{
 "cells": [
  {
   "cell_type": "markdown",
   "id": "75709c76-e765-4d56-8965-1dd61dca2d4d",
   "metadata": {},
   "source": [
    "# Data Science Tools and Ecosystem"
   ]
  },
  {
   "cell_type": "markdown",
   "id": "60fa25c9-c23c-4e96-ae13-28d9370bbeb6",
   "metadata": {},
   "source": [
    "In this notebook, i will show some basic notebook functions."
   ]
  },
  {
   "cell_type": "markdown",
   "id": "bdbbe8aa-0b12-4c80-b4b8-41a683ea488b",
   "metadata": {},
   "source": [
    "**Objectives:**\r\n",
    "\r\n",
    "- List popular languages for Data Science.\r",
    "List popular libraries for Data Science.das.show some basic calcilationsbearn.\r\n"
   ]
  },
  {
   "cell_type": "markdown",
   "id": "49f42096-225f-4388-bb0a-c247bfef78a9",
   "metadata": {},
   "source": [
    "Some of the popular languages that Data Scientists use are:\n",
    "1. Python\n",
    "2. R\n",
    "3. JAVA-ML"
   ]
  },
  {
   "cell_type": "markdown",
   "id": "94f73af1-9a38-4c13-a41f-281fbc9d1188",
   "metadata": {},
   "source": [
    "some of the commonly used libraries used by Data Scientists include:\n",
    "1. pandas\n",
    "2. numpy\n",
    "3. sklearn"
   ]
  },
  {
   "cell_type": "markdown",
   "id": "ac198653-5e7d-4068-aa9b-b153ef0af260",
   "metadata": {},
   "source": [
    "|Data Science Tools|\n",
    "---------------------\n",
    "| jupyter notebook |\n",
    "| R Studio |\n",
    "| Waston Studio |"
   ]
  },
  {
   "cell_type": "markdown",
   "id": "65949ec6-eca5-4dea-9af1-56fbee48d6de",
   "metadata": {},
   "source": [
    "### Below are a few examples of evaluating arithmetic expressions in Python"
   ]
  },
  {
   "cell_type": "code",
   "execution_count": 2,
   "id": "c454a0cc-6449-4f01-814c-0c281dc64f9c",
   "metadata": {},
   "outputs": [
    {
     "data": {
      "text/plain": [
       "17"
      ]
     },
     "execution_count": 2,
     "metadata": {},
     "output_type": "execute_result"
    }
   ],
   "source": [
    "# I will show you a easy calculation\n",
    "(3*4)+5"
   ]
  },
  {
   "cell_type": "code",
   "execution_count": 4,
   "id": "16a36ad1-2db2-4332-9566-262f345d3dda",
   "metadata": {},
   "outputs": [
    {
     "name": "stdout",
     "output_type": "stream",
     "text": [
      "200 minutes is equal to 3.3333333333333335hours\n"
     ]
    }
   ],
   "source": [
    "# This will convert 200 minutes to hours by diving by 60\n",
    "print(\"200 minutes is equal to \" + str(200/60) + \"hours\")"
   ]
  },
  {
   "cell_type": "markdown",
   "id": "56eb7046-4582-48ac-9ad7-692f4b1f3486",
   "metadata": {},
   "source": [
    "## Author\n",
    "Yangle Ma"
   ]
  },
  {
   "cell_type": "code",
   "execution_count": null,
   "id": "4754f1c3-9d20-4245-b14e-735a538d7e5b",
   "metadata": {},
   "outputs": [],
   "source": []
  }
 ],
 "metadata": {
  "kernelspec": {
   "display_name": "Python 3 (ipykernel)",
   "language": "python",
   "name": "python3"
  },
  "language_info": {
   "codemirror_mode": {
    "name": "ipython",
    "version": 3
   },
   "file_extension": ".py",
   "mimetype": "text/x-python",
   "name": "python",
   "nbconvert_exporter": "python",
   "pygments_lexer": "ipython3",
   "version": "3.11.7"
  },
  "widgets": {
   "application/vnd.jupyter.widget-state+json": {
    "state": {},
    "version_major": 2,
    "version_minor": 0
   }
  }
 },
 "nbformat": 4,
 "nbformat_minor": 5
}
